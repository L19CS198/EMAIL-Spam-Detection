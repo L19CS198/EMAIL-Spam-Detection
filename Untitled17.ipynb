{
  "nbformat": 4,
  "nbformat_minor": 0,
  "metadata": {
    "colab": {
      "provenance": [],
      "authorship_tag": "ABX9TyN+Mc65AvQl2/M99T5v2YWG",
      "include_colab_link": true
    },
    "kernelspec": {
      "name": "python3",
      "display_name": "Python 3"
    },
    "language_info": {
      "name": "python"
    }
  },
  "cells": [
    {
      "cell_type": "markdown",
      "metadata": {
        "id": "view-in-github",
        "colab_type": "text"
      },
      "source": [
        "<a href=\"https://colab.research.google.com/github/L19CS198/EMAIL-Spam-Detection/blob/main/Untitled17.ipynb\" target=\"_parent\"><img src=\"https://colab.research.google.com/assets/colab-badge.svg\" alt=\"Open In Colab\"/></a>"
      ]
    },
    {
      "cell_type": "code",
      "execution_count": 2,
      "metadata": {
        "colab": {
          "base_uri": "https://localhost:8080/"
        },
        "id": "q-M8tmC6CwhP",
        "outputId": "04401947-6e5b-425d-97af-7483bf1058b2"
      },
      "outputs": [
        {
          "output_type": "stream",
          "name": "stdout",
          "text": [
            "📧 Email Spam Detector\n",
            "-----------------------\n",
            "Enter the email text:\n",
            "Congratulations! You have won a free prize. Click the link now to claim your money offer. Limited time only!\n",
            "✅ Result: Spam\n"
          ]
        }
      ],
      "source": [
        "# 📧 Email Spam Detector\n",
        "\n",
        "# Define spam keywords\n",
        "SPAM_KEYWORDS = [\n",
        "    \"win\", \"prize\", \"free\", \"urgent\", \"money\", \"offer\", \"click\", \"buy now\", \"limited\"\n",
        "]\n",
        "\n",
        "# Function to detect spam\n",
        "def is_spam(email_text):\n",
        "    if not email_text or email_text.strip() == \"\":\n",
        "        return False\n",
        "\n",
        "    lower_text = email_text.lower()\n",
        "    for keyword in SPAM_KEYWORDS:\n",
        "        if keyword in lower_text:\n",
        "            return True\n",
        "    return False\n",
        "\n",
        "# Display header\n",
        "print(\"📧 Email Spam Detector\")\n",
        "print(\"-----------------------\")\n",
        "\n",
        "# Ask user for email content\n",
        "email_text = input(\"Enter the email text:\\n\")\n",
        "\n",
        "# Analyze and display result\n",
        "if is_spam(email_text):\n",
        "    print(\"✅ Result: Spam\")\n",
        "else:\n",
        "    print(\"✅ Result: Real\")\n"
      ]
    }
  ]
}